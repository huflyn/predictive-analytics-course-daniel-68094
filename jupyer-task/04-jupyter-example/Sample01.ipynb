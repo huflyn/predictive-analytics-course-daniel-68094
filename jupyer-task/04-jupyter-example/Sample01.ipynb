{
 "cells": [
  {
   "cell_type": "markdown",
   "id": "c89ed846-c25a-4e9d-8c01-d91667e1d7cf",
   "metadata": {},
   "source": [
    "# Introduction to Jupyer\n",
    "As you can see, this cell contains markdown layouted text"
   ]
  },
  {
   "cell_type": "code",
   "execution_count": null,
   "id": "36677be8-5cf1-46f6-8a50-6be0183fcb8d",
   "metadata": {},
   "outputs": [],
   "source": [
    "# This cell however contains Python, output ends up in the notebook.\n",
    "print(\"Hello World!\")"
   ]
  },
  {
   "cell_type": "markdown",
   "id": "a468d1ec",
   "metadata": {},
   "source": [
    "## Integrating Markdown \n",
    "One advantage of Jupyter is, that you can enrich your code with markdown layouted text blocks. This include the use of images:\n",
    "\n",
    "![Logo](starwit.jpg \"Logo\")\n",
    "\n",
    "## And now let's draw something...\n"
   ]
  },
  {
   "cell_type": "code",
   "execution_count": null,
   "id": "e36314fc",
   "metadata": {},
   "outputs": [],
   "source": [
    "import matplotlib.pyplot as plt\n",
    "import numpy as np\n",
    "\n",
    "# Data for plotting\n",
    "t = np.arange(0.0, 2.0, 0.01)\n",
    "s = 1 + np.sin(2 * np.pi * t)\n",
    "\n",
    "fig, ax = plt.subplots()\n",
    "ax.plot(t, s)\n",
    "\n",
    "ax.set(xlabel='time (s)', ylabel='voltage (mV)',\n",
    "       title='About as simple as it gets, folks')\n",
    "ax.grid()\n",
    "\n",
    "plt.show()"
   ]
  },
  {
   "cell_type": "code",
   "execution_count": null,
   "id": "581777fa",
   "metadata": {},
   "outputs": [],
   "source": [
    "import matplotlib.pyplot as plt\n",
    "# simple plot\n",
    "ys = [0, 1, 3, 5, 7, 11, 13]\n",
    "xs = [x for x in range(len(ys))]\n",
    "\n",
    "plt.plot(xs, ys)\n",
    "plt.show()\n",
    "# Make sure to close the plt object once done\n",
    "plt.close()"
   ]
  }
 ],
 "metadata": {
  "kernelspec": {
   "display_name": "Python 3 (ipykernel)",
   "language": "python",
   "name": "python3"
  },
  "language_info": {
   "codemirror_mode": {
    "name": "ipython",
    "version": 3
   },
   "file_extension": ".py",
   "mimetype": "text/x-python",
   "name": "python",
   "nbconvert_exporter": "python",
   "pygments_lexer": "ipython3",
   "version": "3.12.4"
  }
 },
 "nbformat": 4,
 "nbformat_minor": 5
}
