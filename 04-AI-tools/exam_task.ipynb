{
 "cells": [
  {
   "cell_type": "markdown",
   "metadata": {},
   "source": [
    "# Test your knowledge\n",
    "\n",
    "In order to create a custom model the following steps are necessary:\n",
    "* Label your assigned project\n",
    "* Download label data & video\n",
    "* Split video in individual frames\n",
    "* Create a training set structure - see uploaded sample \n",
    "* Train using this [script](02-pytorch-examples/03-ultralytics-training.py) - adapt file location\n",
    "* apply trained model using this [script](01-introduction-example/02-yolo-example.py) and create an annotated output video\n",
    "* upload trained model and output video"
   ]
  },
  {
   "cell_type": "markdown",
   "metadata": {},
   "source": [
    "## Tips and Tricks\n",
    "TODO"
   ]
  },
  {
   "cell_type": "code",
   "execution_count": null,
   "metadata": {},
   "outputs": [],
   "source": []
  }
 ],
 "metadata": {
  "language_info": {
   "name": "python"
  }
 },
 "nbformat": 4,
 "nbformat_minor": 2
}
