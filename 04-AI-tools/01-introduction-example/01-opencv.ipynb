{
 "cells": [
  {
   "cell_type": "markdown",
   "metadata": {},
   "source": [
    "# Introduction to openCV\n",
    "\n",
    "Following code reads a video file and display it's content. "
   ]
  },
  {
   "cell_type": "code",
   "execution_count": 1,
   "metadata": {},
   "outputs": [],
   "source": [
    "#!/usr/bin/env python\n",
    "\n",
    "import cv2 \n",
    "  \n",
    "# change with your source\n",
    "# digits for cameras on your computer\n",
    "# path for video in filesystem\n",
    "# url for RTSP stream\n",
    "# more details at https://docs.opencv.org/3.4/d8/dfe/classcv_1_1VideoCapture.html#a85b55cf6a4a50451367ba96b65218ba1\n",
    "vid = cv2.VideoCapture(\"/home/markus/Videos/2023-04-07-MononElm01.mp4\")\n",
    "  \n",
    "while(True): \n",
    "      \n",
    "    # Capture video frame from source\n",
    "    ret, frame = vid.read() \n",
    "    # better - check if reading was succesful  \n",
    "    # Display resulting frames\n",
    "    cv2.imshow('frame', frame) \n",
    "      \n",
    "    # stop loop if q is pressed\n",
    "    if cv2.waitKey(1) & 0xFF == ord('q'): \n",
    "        break\n",
    "  \n",
    "# be nice to your os and release all resources\n",
    "vid.release() \n",
    "cv2.destroyAllWindows()"
   ]
  },
  {
   "cell_type": "markdown",
   "metadata": {},
   "source": [
    "## Tasks\n",
    "* setup an RTSP server for your webcam and use it as input for this script\n",
    "* save n frames from captured web stream as JPG files [hint](https://stackoverflow.com/questions/30136257/how-to-get-image-from-video-using-opencv-python)\n",
    "* modify script to convert saved images to gray scale and save video file, see [here](../../02-libraries+tools/05-numpy/numpy.ipynb).\n",
    "\n",
    "### Tips\n",
    "\n",
    "How to output a video in openCV:\n",
    "```Python\n",
    "    output = cv2.VideoWriter('filename.avi',  \n",
    "                         cv2.VideoWriter_fourcc(*'MJPG'), \n",
    "                         10, size)\n",
    "    output.write(frame)\n",
    "    output.release() \n",
    "```"
   ]
  }
 ],
 "metadata": {
  "kernelspec": {
   "display_name": ".venv",
   "language": "python",
   "name": "python3"
  },
  "language_info": {
   "codemirror_mode": {
    "name": "ipython",
    "version": 3
   },
   "file_extension": ".py",
   "mimetype": "text/x-python",
   "name": "python",
   "nbconvert_exporter": "python",
   "pygments_lexer": "ipython3",
   "version": "3.11.6"
  }
 },
 "nbformat": 4,
 "nbformat_minor": 2
}
